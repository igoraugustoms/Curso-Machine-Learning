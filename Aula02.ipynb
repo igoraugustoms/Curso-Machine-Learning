{
 "cells": [
  {
   "cell_type": "code",
   "execution_count": 3,
   "metadata": {},
   "outputs": [
    {
     "name": "stdout",
     "output_type": "stream",
     "text": [
      "[-1  1 -1]\n",
      "[0 0 0]\n",
      "[0, 0, 0]\n",
      "3\n",
      "3\n",
      "100.0\n"
     ]
    }
   ],
   "source": [
    "# gordinho, tem perninha curta, faz auau\n",
    "porco1 =    [1, 1, 0]\n",
    "porco2 =    [1, 1, 0]\n",
    "porco3 =    [1, 1, 0]\n",
    "cachorro1 = [1, 1, 1]\n",
    "cachorro2 = [0, 1, 1]\n",
    "cachorro3 = [0, 1, 1]\n",
    "\n",
    "dados = [porco1, porco2, porco3, cachorro1, cachorro2, cachorro3]\n",
    "\n",
    "marcacoes = [1, 1, 1, -1, -1, -1]\n",
    "# -1 para quem é cachorro\n",
    "\n",
    "misterioso = [1, 1, 1]\n",
    "misterioso2 = [1, 0, 0]\n",
    "misterioso3 = [0, 0, 1]\n",
    "from sklearn.naive_bayes import MultinomialNB\n",
    "\n",
    "modelo = MultinomialNB()\n",
    "modelo.fit(dados, marcacoes)\n",
    "teste = [misterioso, misterioso2, misterioso3]\n",
    "marcacoes_teste = [-1, 1, -1]\n",
    "resultado = modelo.predict(teste)\n",
    "print(resultado)\n",
    "\n",
    "diferenca = resultado - marcacoes_teste\n",
    "print(diferenca)\n",
    "\n",
    "# acertos = [d for d in diferenca if d==0]\n",
    "acertos = []\n",
    "for c in range(len(diferenca)):\n",
    "    if diferenca[c] == 0:\n",
    "        acertos.append(diferenca[c])\n",
    "print(acertos)\n",
    "total_acertos = len(acertos)\n",
    "print(total_acertos)\n",
    "total_elementos = len(teste)\n",
    "print(total_elementos)\n",
    "taxa_acerto = (total_acertos / total_elementos) * 100\n",
    "print(taxa_acerto)"
   ]
  },
  {
   "cell_type": "code",
   "execution_count": null,
   "metadata": {},
   "outputs": [],
   "source": []
  }
 ],
 "metadata": {
  "kernelspec": {
   "display_name": "Python 3",
   "language": "python",
   "name": "python3"
  },
  "language_info": {
   "codemirror_mode": {
    "name": "ipython",
    "version": 3
   },
   "file_extension": ".py",
   "mimetype": "text/x-python",
   "name": "python",
   "nbconvert_exporter": "python",
   "pygments_lexer": "ipython3",
   "version": "3.7.0"
  }
 },
 "nbformat": 4,
 "nbformat_minor": 2
}
